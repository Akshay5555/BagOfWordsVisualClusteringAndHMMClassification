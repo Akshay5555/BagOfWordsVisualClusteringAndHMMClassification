{
 "cells": [
  {
   "cell_type": "code",
   "execution_count": 34,
   "metadata": {},
   "outputs": [],
   "source": [
    "from hmmlearn import hmm\n",
    "import numpy as np\n",
    "import pandas as pd\n",
    "import itertools"
   ]
  },
  {
   "cell_type": "code",
   "execution_count": 28,
   "metadata": {},
   "outputs": [
    {
     "name": "stdout",
     "output_type": "stream",
     "text": [
      "[3 6]\n"
     ]
    }
   ],
   "source": [
    "arr = np.array([2,1,5,4,3,6,7,8])\n",
    "print(arr[4:6])"
   ]
  },
  {
   "cell_type": "code",
   "execution_count": 52,
   "metadata": {},
   "outputs": [
    {
     "name": "stdout",
     "output_type": "stream",
     "text": [
      "[(5.0, 27), (4.0, 24), (6.0, 27), (1.0, 47), (3.0, 25), (2.0, 26), (5.0, 26), (4.0, 11), (6.0, 12), (4.0, 12), (6.0, 11), (1.0, 48), (3.0, 7), (2.0, 27), (3.0, 17), (5.0, 31), (4.0, 26), (6.0, 30), (1.0, 31), (3.0, 23), (2.0, 34), (5.0, 30), (4.0, 26), (6.0, 32), (1.0, 27), (3.0, 26), (2.0, 25), (5.0, 28), (4.0, 23), (6.0, 28), (1.0, 30), (3.0, 25), (2.0, 25), (5.0, 28), (4.0, 21), (6.0, 24), (1.0, 26), (3.0, 22), (2.0, 22), (5.0, 30), (4.0, 29), (6.0, 28), (1.0, 29), (3.0, 24), (2.0, 26), (5.0, 27), (4.0, 26), (6.0, 29), (1.0, 28), (3.0, 24), (2.0, 25), (5.0, 28), (4.0, 26), (6.0, 27), (1.0, 29), (3.0, 25), (2.0, 26), (5.0, 25), (4.0, 22), (6.0, 25), (1.0, 28), (3.0, 22), (2.0, 25), (5.0, 22), (4.0, 22), (6.0, 25), (1.0, 24), (3.0, 20), (2.0, 21), (5.0, 32), (4.0, 24), (6.0, 29), (1.0, 24), (3.0, 18), (2.0, 20), (5.0, 21), (4.0, 26), (6.0, 30), (1.0, 29), (3.0, 22), (2.0, 26), (5.0, 26), (4.0, 27), (6.0, 27), (1.0, 30), (3.0, 24), (2.0, 28), (5.0, 30), (4.0, 26), (6.0, 25), (1.0, 30), (3.0, 24), (2.0, 27), (5.0, 30), (4.0, 28), (6.0, 26), (1.0, 29), (3.0, 21), (2.0, 27), (5.0, 27), (4.0, 27), (6.0, 34), (1.0, 28), (3.0, 21), (2.0, 24), (5.0, 26), (4.0, 32), (6.0, 38), (1.0, 26), (3.0, 21), (2.0, 24), (5.0, 36), (4.0, 31), (6.0, 35), (1.0, 26), (3.0, 24), (2.0, 27), (5.0, 42), (4.0, 38), (6.0, 35), (1.0, 25), (3.0, 23), (2.0, 24), (5.0, 43), (4.0, 33), (6.0, 35), (1.0, 32), (3.0, 8), (2.0, 8), (3.0, 8), (2.0, 8), (3.0, 7), (2.0, 8), (5.0, 35), (4.0, 31), (6.0, 36), (1.0, 29), (3.0, 15), (2.0, 24), (3.0, 8), (5.0, 41), (4.0, 37), (6.0, 41), (1.0, 27), (3.0, 14), (2.0, 14), (3.0, 7), (2.0, 7), (5.0, 32), (4.0, 36), (6.0, 42), (1.0, 25), (3.0, 12), (2.0, 13), (3.0, 6), (2.0, 6), (5.0, 45), (4.0, 47), (6.0, 44), (1.0, 27), (3.0, 15), (2.0, 17), (3.0, 8), (2.0, 8), (5.0, 44), (4.0, 38), (6.0, 46), (1.0, 25), (3.0, 15), (2.0, 15), (3.0, 7), (2.0, 7), (5.0, 30), (4.0, 32), (6.0, 37), (1.0, 23), (3.0, 12), (2.0, 14), (3.0, 6), (2.0, 7), (5.0, 33), (4.0, 30), (6.0, 35), (1.0, 23), (3.0, 18), (2.0, 21), (5.0, 33), (4.0, 38), (6.0, 33), (1.0, 30), (3.0, 9), (2.0, 9), (3.0, 9), (2.0, 8), (3.0, 9), (2.0, 8), (5.0, 35), (4.0, 30), (6.0, 39), (1.0, 29), (3.0, 27), (2.0, 26), (5.0, 37), (4.0, 34), (6.0, 33), (1.0, 36), (3.0, 30), (2.0, 35), (5.0, 37), (4.0, 31), (6.0, 40), (1.0, 38), (3.0, 28), (2.0, 30), (5.0, 38), (4.0, 44), (6.0, 34), (1.0, 28), (3.0, 25), (2.0, 28), (5.0, 36), (4.0, 34), (6.0, 42), (1.0, 31), (3.0, 17), (2.0, 18), (3.0, 8), (2.0, 9), (5.0, 36), (4.0, 37), (6.0, 36), (1.0, 28), (3.0, 22), (2.0, 25), (5.0, 44), (4.0, 33), (6.0, 38), (1.0, 29), (3.0, 22), (2.0, 26), (5.0, 43), (4.0, 43), (6.0, 42), (1.0, 28), (3.0, 8), (2.0, 9), (3.0, 16), (2.0, 19), (5.0, 36), (4.0, 29), (6.0, 38), (1.0, 26), (3.0, 22), (2.0, 23), (5.0, 31), (4.0, 28), (6.0, 40), (1.0, 26), (3.0, 24), (2.0, 25), (5.0, 34), (4.0, 32), (6.0, 29), (1.0, 27), (3.0, 24), (2.0, 24), (5.0, 27), (4.0, 32), (6.0, 38), (1.0, 33), (3.0, 23), (2.0, 24), (3.0, 11), (2.0, 11), (5.0, 32), (4.0, 30), (6.0, 32), (1.0, 32), (3.0, 28), (2.0, 30)]\n",
      "(27, 561)\n",
      "(24, 561)\n",
      "(27, 561)\n",
      "(47, 561)\n",
      "(25, 561)\n",
      "(26, 561)\n",
      "(26, 561)\n",
      "(11, 561)\n",
      "(12, 561)\n",
      "(12, 561)\n",
      "(11, 561)\n",
      "(48, 561)\n",
      "(7, 561)\n",
      "(27, 561)\n",
      "(17, 561)\n",
      "(31, 561)\n",
      "(26, 561)\n",
      "(30, 561)\n",
      "(31, 561)\n",
      "(23, 561)\n",
      "(34, 561)\n",
      "(30, 561)\n",
      "(26, 561)\n",
      "(32, 561)\n",
      "(27, 561)\n",
      "(26, 561)\n",
      "(25, 561)\n",
      "(28, 561)\n",
      "(23, 561)\n",
      "(28, 561)\n",
      "(30, 561)\n",
      "(25, 561)\n",
      "(25, 561)\n",
      "(28, 561)\n",
      "(21, 561)\n",
      "(24, 561)\n",
      "(26, 561)\n",
      "(22, 561)\n",
      "(22, 561)\n",
      "(30, 561)\n",
      "(29, 561)\n",
      "(28, 561)\n",
      "(29, 561)\n",
      "(24, 561)\n",
      "(26, 561)\n",
      "(27, 561)\n",
      "(26, 561)\n",
      "(29, 561)\n",
      "(28, 561)\n",
      "(24, 561)\n",
      "(25, 561)\n",
      "(28, 561)\n",
      "(26, 561)\n",
      "(27, 561)\n",
      "(29, 561)\n",
      "(25, 561)\n",
      "(26, 561)\n",
      "(25, 561)\n",
      "(22, 561)\n",
      "(25, 561)\n",
      "(28, 561)\n",
      "(22, 561)\n",
      "(25, 561)\n",
      "(22, 561)\n",
      "(22, 561)\n",
      "(25, 561)\n",
      "(24, 561)\n",
      "(20, 561)\n",
      "(21, 561)\n",
      "(32, 561)\n",
      "(24, 561)\n",
      "(29, 561)\n",
      "(24, 561)\n",
      "(18, 561)\n",
      "(20, 561)\n",
      "(21, 561)\n",
      "(26, 561)\n",
      "(30, 561)\n",
      "(29, 561)\n",
      "(22, 561)\n",
      "(26, 561)\n",
      "(26, 561)\n",
      "(27, 561)\n",
      "(27, 561)\n",
      "(30, 561)\n",
      "(24, 561)\n",
      "(28, 561)\n",
      "(30, 561)\n",
      "(26, 561)\n",
      "(25, 561)\n",
      "(30, 561)\n",
      "(24, 561)\n",
      "(27, 561)\n",
      "(30, 561)\n",
      "(28, 561)\n",
      "(26, 561)\n",
      "(29, 561)\n",
      "(21, 561)\n",
      "(27, 561)\n",
      "(27, 561)\n",
      "(27, 561)\n",
      "(34, 561)\n",
      "(28, 561)\n",
      "(21, 561)\n",
      "(24, 561)\n",
      "(26, 561)\n",
      "(32, 561)\n",
      "(38, 561)\n",
      "(26, 561)\n",
      "(21, 561)\n",
      "(24, 561)\n",
      "(36, 561)\n",
      "(31, 561)\n",
      "(35, 561)\n",
      "(26, 561)\n",
      "(24, 561)\n",
      "(27, 561)\n",
      "(42, 561)\n",
      "(38, 561)\n",
      "(35, 561)\n",
      "(25, 561)\n",
      "(23, 561)\n",
      "(24, 561)\n",
      "(43, 561)\n",
      "(33, 561)\n",
      "(35, 561)\n",
      "(32, 561)\n",
      "(8, 561)\n",
      "(8, 561)\n",
      "(8, 561)\n",
      "(8, 561)\n",
      "(7, 561)\n",
      "(8, 561)\n",
      "(35, 561)\n",
      "(31, 561)\n",
      "(36, 561)\n",
      "(29, 561)\n",
      "(15, 561)\n",
      "(24, 561)\n",
      "(8, 561)\n",
      "(41, 561)\n",
      "(37, 561)\n",
      "(41, 561)\n",
      "(27, 561)\n",
      "(14, 561)\n",
      "(14, 561)\n",
      "(7, 561)\n",
      "(7, 561)\n",
      "(32, 561)\n",
      "(36, 561)\n",
      "(42, 561)\n",
      "(25, 561)\n",
      "(12, 561)\n",
      "(13, 561)\n",
      "(6, 561)\n",
      "(6, 561)\n",
      "(45, 561)\n",
      "(47, 561)\n",
      "(44, 561)\n",
      "(27, 561)\n",
      "(15, 561)\n",
      "(17, 561)\n",
      "(8, 561)\n",
      "(8, 561)\n",
      "(44, 561)\n",
      "(38, 561)\n",
      "(46, 561)\n",
      "(25, 561)\n",
      "(15, 561)\n",
      "(15, 561)\n",
      "(7, 561)\n",
      "(7, 561)\n",
      "(30, 561)\n",
      "(32, 561)\n",
      "(37, 561)\n",
      "(23, 561)\n",
      "(12, 561)\n",
      "(14, 561)\n",
      "(6, 561)\n",
      "(7, 561)\n",
      "(33, 561)\n",
      "(30, 561)\n",
      "(35, 561)\n",
      "(23, 561)\n",
      "(18, 561)\n",
      "(21, 561)\n",
      "(33, 561)\n",
      "(38, 561)\n",
      "(33, 561)\n",
      "(30, 561)\n",
      "(9, 561)\n",
      "(9, 561)\n",
      "(9, 561)\n",
      "(8, 561)\n",
      "(9, 561)\n",
      "(8, 561)\n",
      "(35, 561)\n",
      "(30, 561)\n",
      "(39, 561)\n",
      "(29, 561)\n",
      "(27, 561)\n",
      "(26, 561)\n",
      "(37, 561)\n",
      "(34, 561)\n",
      "(33, 561)\n",
      "(36, 561)\n",
      "(30, 561)\n",
      "(35, 561)\n",
      "(37, 561)\n",
      "(31, 561)\n",
      "(40, 561)\n",
      "(38, 561)\n",
      "(28, 561)\n",
      "(30, 561)\n",
      "(38, 561)\n",
      "(44, 561)\n",
      "(34, 561)\n",
      "(28, 561)\n",
      "(25, 561)\n",
      "(28, 561)\n",
      "(36, 561)\n",
      "(34, 561)\n",
      "(42, 561)\n",
      "(31, 561)\n",
      "(17, 561)\n",
      "(18, 561)\n",
      "(8, 561)\n",
      "(9, 561)\n",
      "(36, 561)\n",
      "(37, 561)\n",
      "(36, 561)\n",
      "(28, 561)\n",
      "(22, 561)\n",
      "(25, 561)\n",
      "(44, 561)\n",
      "(33, 561)\n",
      "(38, 561)\n",
      "(29, 561)\n",
      "(22, 561)\n",
      "(26, 561)\n",
      "(43, 561)\n",
      "(43, 561)\n",
      "(42, 561)\n",
      "(28, 561)\n",
      "(8, 561)\n",
      "(9, 561)\n",
      "(16, 561)\n",
      "(19, 561)\n",
      "(36, 561)\n",
      "(29, 561)\n",
      "(38, 561)\n",
      "(26, 561)\n",
      "(22, 561)\n",
      "(23, 561)\n",
      "(31, 561)\n",
      "(28, 561)\n",
      "(40, 561)\n",
      "(26, 561)\n",
      "(24, 561)\n",
      "(25, 561)\n",
      "(34, 561)\n",
      "(32, 561)\n",
      "(29, 561)\n",
      "(27, 561)\n",
      "(24, 561)\n",
      "(24, 561)\n",
      "(27, 561)\n",
      "(32, 561)\n",
      "(38, 561)\n",
      "(33, 561)\n",
      "(23, 561)\n",
      "(24, 561)\n",
      "(11, 561)\n",
      "(11, 561)\n",
      "(32, 561)\n",
      "(30, 561)\n",
      "(32, 561)\n",
      "(32, 561)\n",
      "(28, 561)\n",
      "(30, 561)\n"
     ]
    }
   ],
   "source": [
    "df = pd.read_csv(\"X_train.txt\",delimiter=\"\\s+\",header=None)\n",
    "labels = np.genfromtxt(\"y_train.txt\",delimiter=\"\\s+\")\n",
    "X_arr = df.values\n",
    "\n",
    "Y = [(x, len(list(y))) for x, y in itertools.groupby(labels)]\n",
    "print(Y)\n",
    "data_list = []\n",
    "j = 0\n",
    "for k in range(len(Y)):\n",
    "    lbl,num = Y[k][0],Y[k][1]\n",
    "    data = X_arr[j:j+num,:]\n",
    "    print(data.shape)\n",
    "    data_list.append(data)\n",
    "    j = j + num\n"
   ]
  },
  {
   "cell_type": "code",
   "execution_count": 48,
   "metadata": {},
   "outputs": [
    {
     "name": "stdout",
     "output_type": "stream",
     "text": [
      "(27, 561)\n"
     ]
    }
   ],
   "source": [
    "print(data_list[0].shape)                              "
   ]
  },
  {
   "cell_type": "code",
   "execution_count": 51,
   "metadata": {},
   "outputs": [
    {
     "name": "stdout",
     "output_type": "stream",
     "text": [
      "0\n"
     ]
    },
    {
     "name": "stderr",
     "output_type": "stream",
     "text": [
      "C:\\Users\\91858\\anaconda3\\lib\\site-packages\\hmmlearn\\utils.py:55: RuntimeWarning: invalid value encountered in subtract\n",
      "  a -= a_lse\n"
     ]
    },
    {
     "name": "stdout",
     "output_type": "stream",
     "text": [
      "1\n",
      "2\n"
     ]
    },
    {
     "name": "stderr",
     "output_type": "stream",
     "text": [
      "C:\\Users\\91858\\anaconda3\\lib\\site-packages\\hmmlearn\\utils.py:55: RuntimeWarning: invalid value encountered in subtract\n",
      "  a -= a_lse\n"
     ]
    },
    {
     "name": "stdout",
     "output_type": "stream",
     "text": [
      "3\n"
     ]
    },
    {
     "name": "stderr",
     "output_type": "stream",
     "text": [
      "C:\\Users\\91858\\anaconda3\\lib\\site-packages\\hmmlearn\\hmm.py:925: RuntimeWarning: invalid value encountered in true_divide\n",
      "  new_means = new_means_numer / new_means_denom\n",
      "C:\\Users\\91858\\anaconda3\\lib\\site-packages\\hmmlearn\\hmm.py:968: RuntimeWarning: invalid value encountered in true_divide\n",
      "  new_cov = new_cov_numer / new_cov_denom\n",
      "C:\\Users\\91858\\anaconda3\\lib\\site-packages\\hmmlearn\\hmm.py:925: RuntimeWarning: invalid value encountered in true_divide\n",
      "  new_means = new_means_numer / new_means_denom\n",
      "C:\\Users\\91858\\anaconda3\\lib\\site-packages\\hmmlearn\\hmm.py:968: RuntimeWarning: invalid value encountered in true_divide\n",
      "  new_cov = new_cov_numer / new_cov_denom\n"
     ]
    },
    {
     "name": "stdout",
     "output_type": "stream",
     "text": [
      "4\n",
      "5\n"
     ]
    },
    {
     "name": "stderr",
     "output_type": "stream",
     "text": [
      "C:\\Users\\91858\\anaconda3\\lib\\site-packages\\hmmlearn\\hmm.py:916: RuntimeWarning: invalid value encountered in true_divide\n",
      "  new_weights = new_weights_numer / new_weights_denom\n",
      "C:\\Users\\91858\\anaconda3\\lib\\site-packages\\hmmlearn\\hmm.py:925: RuntimeWarning: invalid value encountered in true_divide\n",
      "  new_means = new_means_numer / new_means_denom\n",
      "C:\\Users\\91858\\anaconda3\\lib\\site-packages\\hmmlearn\\hmm.py:968: RuntimeWarning: invalid value encountered in true_divide\n",
      "  new_cov = new_cov_numer / new_cov_denom\n",
      "Some rows of transmat_ have zero sum because no transition from the state was ever observed.\n"
     ]
    },
    {
     "name": "stdout",
     "output_type": "stream",
     "text": [
      "6\n"
     ]
    },
    {
     "name": "stderr",
     "output_type": "stream",
     "text": [
      "Fitting a model with 6741 free scalar parameters with only 6171 data points will result in a degenerate solution.\n"
     ]
    },
    {
     "name": "stdout",
     "output_type": "stream",
     "text": [
      "7\n"
     ]
    },
    {
     "ename": "ValueError",
     "evalue": "n_samples=1 should be >= n_clusters=2",
     "output_type": "error",
     "traceback": [
      "\u001b[1;31m---------------------------------------------------------------------------\u001b[0m",
      "\u001b[1;31mValueError\u001b[0m                                Traceback (most recent call last)",
      "\u001b[1;32m<ipython-input-51-ebe99606211c>\u001b[0m in \u001b[0;36m<module>\u001b[1;34m\u001b[0m\n\u001b[0;32m      3\u001b[0m     \u001b[0mhid_markov\u001b[0m \u001b[1;33m=\u001b[0m \u001b[0mhmm\u001b[0m\u001b[1;33m.\u001b[0m\u001b[0mGMMHMM\u001b[0m\u001b[1;33m(\u001b[0m\u001b[0mn_components\u001b[0m \u001b[1;33m=\u001b[0m \u001b[1;36m3\u001b[0m\u001b[1;33m,\u001b[0m\u001b[0mn_mix\u001b[0m \u001b[1;33m=\u001b[0m \u001b[1;36m2\u001b[0m\u001b[1;33m)\u001b[0m\u001b[1;33m\u001b[0m\u001b[1;33m\u001b[0m\u001b[0m\n\u001b[0;32m      4\u001b[0m     \u001b[0mprint\u001b[0m\u001b[1;33m(\u001b[0m\u001b[0mi\u001b[0m\u001b[1;33m)\u001b[0m\u001b[1;33m\u001b[0m\u001b[1;33m\u001b[0m\u001b[0m\n\u001b[1;32m----> 5\u001b[1;33m     \u001b[0mhid_markov\u001b[0m\u001b[1;33m.\u001b[0m\u001b[0mfit\u001b[0m\u001b[1;33m(\u001b[0m\u001b[0mdata_list\u001b[0m\u001b[1;33m[\u001b[0m\u001b[0mi\u001b[0m\u001b[1;33m]\u001b[0m\u001b[1;33m)\u001b[0m\u001b[1;33m\u001b[0m\u001b[1;33m\u001b[0m\u001b[0m\n\u001b[0m\u001b[0;32m      6\u001b[0m     \u001b[0mhmm_ls\u001b[0m\u001b[1;33m.\u001b[0m\u001b[0mappend\u001b[0m\u001b[1;33m(\u001b[0m\u001b[0mhid_markov\u001b[0m\u001b[1;33m)\u001b[0m\u001b[1;33m\u001b[0m\u001b[1;33m\u001b[0m\u001b[0m\n",
      "\u001b[1;32m~\\anaconda3\\lib\\site-packages\\hmmlearn\\base.py\u001b[0m in \u001b[0;36mfit\u001b[1;34m(self, X, lengths)\u001b[0m\n\u001b[0;32m    460\u001b[0m         \"\"\"\n\u001b[0;32m    461\u001b[0m         \u001b[0mX\u001b[0m \u001b[1;33m=\u001b[0m \u001b[0mcheck_array\u001b[0m\u001b[1;33m(\u001b[0m\u001b[0mX\u001b[0m\u001b[1;33m)\u001b[0m\u001b[1;33m\u001b[0m\u001b[1;33m\u001b[0m\u001b[0m\n\u001b[1;32m--> 462\u001b[1;33m         \u001b[0mself\u001b[0m\u001b[1;33m.\u001b[0m\u001b[0m_init\u001b[0m\u001b[1;33m(\u001b[0m\u001b[0mX\u001b[0m\u001b[1;33m,\u001b[0m \u001b[0mlengths\u001b[0m\u001b[1;33m=\u001b[0m\u001b[0mlengths\u001b[0m\u001b[1;33m)\u001b[0m\u001b[1;33m\u001b[0m\u001b[1;33m\u001b[0m\u001b[0m\n\u001b[0m\u001b[0;32m    463\u001b[0m         \u001b[0mself\u001b[0m\u001b[1;33m.\u001b[0m\u001b[0m_check\u001b[0m\u001b[1;33m(\u001b[0m\u001b[1;33m)\u001b[0m\u001b[1;33m\u001b[0m\u001b[1;33m\u001b[0m\u001b[0m\n\u001b[0;32m    464\u001b[0m \u001b[1;33m\u001b[0m\u001b[0m\n",
      "\u001b[1;32m~\\anaconda3\\lib\\site-packages\\hmmlearn\\hmm.py\u001b[0m in \u001b[0;36m_init\u001b[1;34m(self, X, lengths)\u001b[0m\n\u001b[0;32m    647\u001b[0m             kmeans = cluster.KMeans(n_clusters=nm,\n\u001b[0;32m    648\u001b[0m                                     random_state=self.random_state)\n\u001b[1;32m--> 649\u001b[1;33m             \u001b[0mkmeans\u001b[0m\u001b[1;33m.\u001b[0m\u001b[0mfit\u001b[0m\u001b[1;33m(\u001b[0m\u001b[0mX\u001b[0m\u001b[1;33m[\u001b[0m\u001b[0mnp\u001b[0m\u001b[1;33m.\u001b[0m\u001b[0mwhere\u001b[0m\u001b[1;33m(\u001b[0m\u001b[0mlabels\u001b[0m \u001b[1;33m==\u001b[0m \u001b[0mlabel\u001b[0m\u001b[1;33m)\u001b[0m\u001b[1;33m]\u001b[0m\u001b[1;33m)\u001b[0m\u001b[1;33m\u001b[0m\u001b[1;33m\u001b[0m\u001b[0m\n\u001b[0m\u001b[0;32m    650\u001b[0m             \u001b[0mkmeanses\u001b[0m\u001b[1;33m.\u001b[0m\u001b[0mappend\u001b[0m\u001b[1;33m(\u001b[0m\u001b[0mkmeans\u001b[0m\u001b[1;33m)\u001b[0m\u001b[1;33m\u001b[0m\u001b[1;33m\u001b[0m\u001b[0m\n\u001b[0;32m    651\u001b[0m \u001b[1;33m\u001b[0m\u001b[0m\n",
      "\u001b[1;32m~\\anaconda3\\lib\\site-packages\\sklearn\\cluster\\_kmeans.py\u001b[0m in \u001b[0;36mfit\u001b[1;34m(self, X, y, sample_weight)\u001b[0m\n\u001b[0;32m    861\u001b[0m         \u001b[1;32mif\u001b[0m \u001b[0m_num_samples\u001b[0m\u001b[1;33m(\u001b[0m\u001b[0mX\u001b[0m\u001b[1;33m)\u001b[0m \u001b[1;33m<\u001b[0m \u001b[0mself\u001b[0m\u001b[1;33m.\u001b[0m\u001b[0mn_clusters\u001b[0m\u001b[1;33m:\u001b[0m\u001b[1;33m\u001b[0m\u001b[1;33m\u001b[0m\u001b[0m\n\u001b[0;32m    862\u001b[0m             raise ValueError(\"n_samples=%d should be >= n_clusters=%d\" % (\n\u001b[1;32m--> 863\u001b[1;33m                 _num_samples(X), self.n_clusters))\n\u001b[0m\u001b[0;32m    864\u001b[0m \u001b[1;33m\u001b[0m\u001b[0m\n\u001b[0;32m    865\u001b[0m         \u001b[0mtol\u001b[0m \u001b[1;33m=\u001b[0m \u001b[0m_tolerance\u001b[0m\u001b[1;33m(\u001b[0m\u001b[0mX\u001b[0m\u001b[1;33m,\u001b[0m \u001b[0mself\u001b[0m\u001b[1;33m.\u001b[0m\u001b[0mtol\u001b[0m\u001b[1;33m)\u001b[0m\u001b[1;33m\u001b[0m\u001b[1;33m\u001b[0m\u001b[0m\n",
      "\u001b[1;31mValueError\u001b[0m: n_samples=1 should be >= n_clusters=2"
     ]
    }
   ],
   "source": [
    "hmm_ls = []\n",
    "for i in range(len(Y)):\n",
    "    hid_markov = hmm.GMMHMM(n_components = 3,n_mix = 2)\n",
    "    print(i)\n",
    "    hid_markov.fit(data_list[i])\n",
    "    hmm_ls.append(hid_markov)"
   ]
  },
  {
   "cell_type": "code",
   "execution_count": null,
   "metadata": {},
   "outputs": [],
   "source": []
  }
 ],
 "metadata": {
  "kernelspec": {
   "display_name": "Python 3",
   "language": "python",
   "name": "python3"
  },
  "language_info": {
   "codemirror_mode": {
    "name": "ipython",
    "version": 3
   },
   "file_extension": ".py",
   "mimetype": "text/x-python",
   "name": "python",
   "nbconvert_exporter": "python",
   "pygments_lexer": "ipython3",
   "version": "3.8.1"
  }
 },
 "nbformat": 4,
 "nbformat_minor": 4
}
