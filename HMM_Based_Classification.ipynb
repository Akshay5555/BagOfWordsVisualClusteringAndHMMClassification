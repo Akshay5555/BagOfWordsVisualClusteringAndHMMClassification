{
 "cells": [
  {
   "cell_type": "markdown",
   "metadata": {
    "colab": {},
    "colab_type": "code",
    "id": "FtQ3nQPsOCgf"
   },
   "source": [
    "# Import the necessary libraries "
   ]
  },
  {
   "cell_type": "code",
   "execution_count": 1,
   "metadata": {
    "colab": {},
    "colab_type": "code",
    "id": "dsXGi7oL8sce"
   },
   "outputs": [],
   "source": [
    "import pandas as pd\n",
    "import numpy as np\n",
    "import math\n",
    "import matplotlib.pyplot as plt\n",
    "from sklearn.metrics import f1_score,accuracy_score\n",
    "from sklearn.decomposition import PCA"
   ]
  },
  {
   "cell_type": "markdown",
   "metadata": {},
   "source": [
    "# Read the train and test files. Convert them to Pandas dataframes"
   ]
  },
  {
   "cell_type": "code",
   "execution_count": 3,
   "metadata": {},
   "outputs": [],
   "source": [
    "df_train = pd.read_csv('train.csv')\n",
    "df_test = pd.read_csv('test.csv')"
   ]
  },
  {
   "cell_type": "code",
   "execution_count": 4,
   "metadata": {},
   "outputs": [
    {
     "data": {
      "text/html": [
       "<div>\n",
       "<style scoped>\n",
       "    .dataframe tbody tr th:only-of-type {\n",
       "        vertical-align: middle;\n",
       "    }\n",
       "\n",
       "    .dataframe tbody tr th {\n",
       "        vertical-align: top;\n",
       "    }\n",
       "\n",
       "    .dataframe thead th {\n",
       "        text-align: right;\n",
       "    }\n",
       "</style>\n",
       "<table border=\"1\" class=\"dataframe\">\n",
       "  <thead>\n",
       "    <tr style=\"text-align: right;\">\n",
       "      <th></th>\n",
       "      <th>tBodyAcc-mean()-X</th>\n",
       "      <th>tBodyAcc-mean()-Y</th>\n",
       "      <th>tBodyAcc-mean()-Z</th>\n",
       "      <th>tBodyAcc-std()-X</th>\n",
       "      <th>tBodyAcc-std()-Y</th>\n",
       "      <th>tBodyAcc-std()-Z</th>\n",
       "      <th>tBodyAcc-mad()-X</th>\n",
       "      <th>tBodyAcc-mad()-Y</th>\n",
       "      <th>tBodyAcc-mad()-Z</th>\n",
       "      <th>tBodyAcc-max()-X</th>\n",
       "      <th>...</th>\n",
       "      <th>fBodyBodyGyroJerkMag-kurtosis()</th>\n",
       "      <th>angle(tBodyAccMean,gravity)</th>\n",
       "      <th>angle(tBodyAccJerkMean),gravityMean)</th>\n",
       "      <th>angle(tBodyGyroMean,gravityMean)</th>\n",
       "      <th>angle(tBodyGyroJerkMean,gravityMean)</th>\n",
       "      <th>angle(X,gravityMean)</th>\n",
       "      <th>angle(Y,gravityMean)</th>\n",
       "      <th>angle(Z,gravityMean)</th>\n",
       "      <th>subject</th>\n",
       "      <th>Activity</th>\n",
       "    </tr>\n",
       "  </thead>\n",
       "  <tbody>\n",
       "    <tr>\n",
       "      <th>0</th>\n",
       "      <td>0.288585</td>\n",
       "      <td>-0.020294</td>\n",
       "      <td>-0.132905</td>\n",
       "      <td>-0.995279</td>\n",
       "      <td>-0.983111</td>\n",
       "      <td>-0.913526</td>\n",
       "      <td>-0.995112</td>\n",
       "      <td>-0.983185</td>\n",
       "      <td>-0.923527</td>\n",
       "      <td>-0.934724</td>\n",
       "      <td>...</td>\n",
       "      <td>-0.710304</td>\n",
       "      <td>-0.112754</td>\n",
       "      <td>0.030400</td>\n",
       "      <td>-0.464761</td>\n",
       "      <td>-0.018446</td>\n",
       "      <td>-0.841247</td>\n",
       "      <td>0.179941</td>\n",
       "      <td>-0.058627</td>\n",
       "      <td>1</td>\n",
       "      <td>STANDING</td>\n",
       "    </tr>\n",
       "    <tr>\n",
       "      <th>1</th>\n",
       "      <td>0.278419</td>\n",
       "      <td>-0.016411</td>\n",
       "      <td>-0.123520</td>\n",
       "      <td>-0.998245</td>\n",
       "      <td>-0.975300</td>\n",
       "      <td>-0.960322</td>\n",
       "      <td>-0.998807</td>\n",
       "      <td>-0.974914</td>\n",
       "      <td>-0.957686</td>\n",
       "      <td>-0.943068</td>\n",
       "      <td>...</td>\n",
       "      <td>-0.861499</td>\n",
       "      <td>0.053477</td>\n",
       "      <td>-0.007435</td>\n",
       "      <td>-0.732626</td>\n",
       "      <td>0.703511</td>\n",
       "      <td>-0.844788</td>\n",
       "      <td>0.180289</td>\n",
       "      <td>-0.054317</td>\n",
       "      <td>1</td>\n",
       "      <td>STANDING</td>\n",
       "    </tr>\n",
       "    <tr>\n",
       "      <th>2</th>\n",
       "      <td>0.279653</td>\n",
       "      <td>-0.019467</td>\n",
       "      <td>-0.113462</td>\n",
       "      <td>-0.995380</td>\n",
       "      <td>-0.967187</td>\n",
       "      <td>-0.978944</td>\n",
       "      <td>-0.996520</td>\n",
       "      <td>-0.963668</td>\n",
       "      <td>-0.977469</td>\n",
       "      <td>-0.938692</td>\n",
       "      <td>...</td>\n",
       "      <td>-0.760104</td>\n",
       "      <td>-0.118559</td>\n",
       "      <td>0.177899</td>\n",
       "      <td>0.100699</td>\n",
       "      <td>0.808529</td>\n",
       "      <td>-0.848933</td>\n",
       "      <td>0.180637</td>\n",
       "      <td>-0.049118</td>\n",
       "      <td>1</td>\n",
       "      <td>STANDING</td>\n",
       "    </tr>\n",
       "    <tr>\n",
       "      <th>3</th>\n",
       "      <td>0.279174</td>\n",
       "      <td>-0.026201</td>\n",
       "      <td>-0.123283</td>\n",
       "      <td>-0.996091</td>\n",
       "      <td>-0.983403</td>\n",
       "      <td>-0.990675</td>\n",
       "      <td>-0.997099</td>\n",
       "      <td>-0.982750</td>\n",
       "      <td>-0.989302</td>\n",
       "      <td>-0.938692</td>\n",
       "      <td>...</td>\n",
       "      <td>-0.482845</td>\n",
       "      <td>-0.036788</td>\n",
       "      <td>-0.012892</td>\n",
       "      <td>0.640011</td>\n",
       "      <td>-0.485366</td>\n",
       "      <td>-0.848649</td>\n",
       "      <td>0.181935</td>\n",
       "      <td>-0.047663</td>\n",
       "      <td>1</td>\n",
       "      <td>STANDING</td>\n",
       "    </tr>\n",
       "    <tr>\n",
       "      <th>4</th>\n",
       "      <td>0.276629</td>\n",
       "      <td>-0.016570</td>\n",
       "      <td>-0.115362</td>\n",
       "      <td>-0.998139</td>\n",
       "      <td>-0.980817</td>\n",
       "      <td>-0.990482</td>\n",
       "      <td>-0.998321</td>\n",
       "      <td>-0.979672</td>\n",
       "      <td>-0.990441</td>\n",
       "      <td>-0.942469</td>\n",
       "      <td>...</td>\n",
       "      <td>-0.699205</td>\n",
       "      <td>0.123320</td>\n",
       "      <td>0.122542</td>\n",
       "      <td>0.693578</td>\n",
       "      <td>-0.615971</td>\n",
       "      <td>-0.847865</td>\n",
       "      <td>0.185151</td>\n",
       "      <td>-0.043892</td>\n",
       "      <td>1</td>\n",
       "      <td>STANDING</td>\n",
       "    </tr>\n",
       "  </tbody>\n",
       "</table>\n",
       "<p>5 rows × 563 columns</p>\n",
       "</div>"
      ],
      "text/plain": [
       "   tBodyAcc-mean()-X  tBodyAcc-mean()-Y  tBodyAcc-mean()-Z  tBodyAcc-std()-X  \\\n",
       "0           0.288585          -0.020294          -0.132905         -0.995279   \n",
       "1           0.278419          -0.016411          -0.123520         -0.998245   \n",
       "2           0.279653          -0.019467          -0.113462         -0.995380   \n",
       "3           0.279174          -0.026201          -0.123283         -0.996091   \n",
       "4           0.276629          -0.016570          -0.115362         -0.998139   \n",
       "\n",
       "   tBodyAcc-std()-Y  tBodyAcc-std()-Z  tBodyAcc-mad()-X  tBodyAcc-mad()-Y  \\\n",
       "0         -0.983111         -0.913526         -0.995112         -0.983185   \n",
       "1         -0.975300         -0.960322         -0.998807         -0.974914   \n",
       "2         -0.967187         -0.978944         -0.996520         -0.963668   \n",
       "3         -0.983403         -0.990675         -0.997099         -0.982750   \n",
       "4         -0.980817         -0.990482         -0.998321         -0.979672   \n",
       "\n",
       "   tBodyAcc-mad()-Z  tBodyAcc-max()-X  ...  fBodyBodyGyroJerkMag-kurtosis()  \\\n",
       "0         -0.923527         -0.934724  ...                        -0.710304   \n",
       "1         -0.957686         -0.943068  ...                        -0.861499   \n",
       "2         -0.977469         -0.938692  ...                        -0.760104   \n",
       "3         -0.989302         -0.938692  ...                        -0.482845   \n",
       "4         -0.990441         -0.942469  ...                        -0.699205   \n",
       "\n",
       "   angle(tBodyAccMean,gravity)  angle(tBodyAccJerkMean),gravityMean)  \\\n",
       "0                    -0.112754                              0.030400   \n",
       "1                     0.053477                             -0.007435   \n",
       "2                    -0.118559                              0.177899   \n",
       "3                    -0.036788                             -0.012892   \n",
       "4                     0.123320                              0.122542   \n",
       "\n",
       "   angle(tBodyGyroMean,gravityMean)  angle(tBodyGyroJerkMean,gravityMean)  \\\n",
       "0                         -0.464761                             -0.018446   \n",
       "1                         -0.732626                              0.703511   \n",
       "2                          0.100699                              0.808529   \n",
       "3                          0.640011                             -0.485366   \n",
       "4                          0.693578                             -0.615971   \n",
       "\n",
       "   angle(X,gravityMean)  angle(Y,gravityMean)  angle(Z,gravityMean)  subject  \\\n",
       "0             -0.841247              0.179941             -0.058627        1   \n",
       "1             -0.844788              0.180289             -0.054317        1   \n",
       "2             -0.848933              0.180637             -0.049118        1   \n",
       "3             -0.848649              0.181935             -0.047663        1   \n",
       "4             -0.847865              0.185151             -0.043892        1   \n",
       "\n",
       "   Activity  \n",
       "0  STANDING  \n",
       "1  STANDING  \n",
       "2  STANDING  \n",
       "3  STANDING  \n",
       "4  STANDING  \n",
       "\n",
       "[5 rows x 563 columns]"
      ]
     },
     "execution_count": 4,
     "metadata": {},
     "output_type": "execute_result"
    }
   ],
   "source": [
    "df_train.head(5)"
   ]
  },
  {
   "cell_type": "markdown",
   "metadata": {},
   "source": [
    "# Compute the covariance matrix of the dataset "
   ]
  },
  {
   "cell_type": "code",
   "execution_count": 5,
   "metadata": {},
   "outputs": [
    {
     "name": "stdout",
     "output_type": "stream",
     "text": [
      "-0.0\n"
     ]
    }
   ],
   "source": [
    "data_arr = df_train.iloc[:,0:561].values\n",
    "cov_data = np.cov(data_arr,rowvar=False)\n",
    "print(np.linalg.det(cov_data))"
   ]
  },
  {
   "cell_type": "markdown",
   "metadata": {},
   "source": [
    "# Data preprocessing before training the classifier "
   ]
  },
  {
   "cell_type": "code",
   "execution_count": 6,
   "metadata": {
    "colab": {},
    "colab_type": "code",
    "id": "IQToT9ttIV6h"
   },
   "outputs": [],
   "source": [
    "pca=PCA(n_components=100)\n",
    "cov_pca=pca.fit(df_train.iloc[:,0:561].values)"
   ]
  },
  {
   "cell_type": "markdown",
   "metadata": {},
   "source": [
    "# Data transformation"
   ]
  },
  {
   "cell_type": "code",
   "execution_count": 7,
   "metadata": {
    "colab": {},
    "colab_type": "code",
    "id": "DO93kRXELrE7"
   },
   "outputs": [],
   "source": [
    "data_train_pca=cov_pca.transform(df_train.iloc[:,0:561].values)\n",
    "df_train_red=pd.DataFrame(data_train_pca)"
   ]
  },
  {
   "cell_type": "code",
   "execution_count": 8,
   "metadata": {
    "colab": {},
    "colab_type": "code",
    "id": "zXIpj_lqMCbY"
   },
   "outputs": [],
   "source": [
    "df_train_red['Subject']=df_train['subject']\n",
    "df_train_red['Activity']=df_train['Activity']\n"
   ]
  },
  {
   "cell_type": "markdown",
   "metadata": {},
   "source": [
    "# View the transformed dataset"
   ]
  },
  {
   "cell_type": "code",
   "execution_count": 9,
   "metadata": {
    "colab": {},
    "colab_type": "code",
    "id": "8u8IHbV7MhJf"
   },
   "outputs": [
    {
     "data": {
      "text/html": [
       "<div>\n",
       "<style scoped>\n",
       "    .dataframe tbody tr th:only-of-type {\n",
       "        vertical-align: middle;\n",
       "    }\n",
       "\n",
       "    .dataframe tbody tr th {\n",
       "        vertical-align: top;\n",
       "    }\n",
       "\n",
       "    .dataframe thead th {\n",
       "        text-align: right;\n",
       "    }\n",
       "</style>\n",
       "<table border=\"1\" class=\"dataframe\">\n",
       "  <thead>\n",
       "    <tr style=\"text-align: right;\">\n",
       "      <th></th>\n",
       "      <th>0</th>\n",
       "      <th>1</th>\n",
       "      <th>2</th>\n",
       "      <th>3</th>\n",
       "      <th>4</th>\n",
       "      <th>5</th>\n",
       "      <th>6</th>\n",
       "      <th>7</th>\n",
       "      <th>8</th>\n",
       "      <th>9</th>\n",
       "      <th>...</th>\n",
       "      <th>92</th>\n",
       "      <th>93</th>\n",
       "      <th>94</th>\n",
       "      <th>95</th>\n",
       "      <th>96</th>\n",
       "      <th>97</th>\n",
       "      <th>98</th>\n",
       "      <th>99</th>\n",
       "      <th>Subject</th>\n",
       "      <th>Activity</th>\n",
       "    </tr>\n",
       "  </thead>\n",
       "  <tbody>\n",
       "    <tr>\n",
       "      <th>0</th>\n",
       "      <td>-5.520280</td>\n",
       "      <td>-0.290278</td>\n",
       "      <td>-1.529929</td>\n",
       "      <td>1.333242</td>\n",
       "      <td>1.425089</td>\n",
       "      <td>-0.194708</td>\n",
       "      <td>0.577454</td>\n",
       "      <td>0.691490</td>\n",
       "      <td>-1.222865</td>\n",
       "      <td>-0.363414</td>\n",
       "      <td>...</td>\n",
       "      <td>-0.332386</td>\n",
       "      <td>0.026547</td>\n",
       "      <td>-0.174725</td>\n",
       "      <td>0.179773</td>\n",
       "      <td>0.153462</td>\n",
       "      <td>0.040106</td>\n",
       "      <td>0.056116</td>\n",
       "      <td>0.004034</td>\n",
       "      <td>1</td>\n",
       "      <td>STANDING</td>\n",
       "    </tr>\n",
       "    <tr>\n",
       "      <th>1</th>\n",
       "      <td>-5.535350</td>\n",
       "      <td>-0.082530</td>\n",
       "      <td>-1.924804</td>\n",
       "      <td>0.671273</td>\n",
       "      <td>0.671260</td>\n",
       "      <td>0.735144</td>\n",
       "      <td>-0.616908</td>\n",
       "      <td>-0.771714</td>\n",
       "      <td>-0.615496</td>\n",
       "      <td>-0.895525</td>\n",
       "      <td>...</td>\n",
       "      <td>-0.044549</td>\n",
       "      <td>-0.053192</td>\n",
       "      <td>-0.164765</td>\n",
       "      <td>0.137700</td>\n",
       "      <td>-0.022226</td>\n",
       "      <td>-0.027823</td>\n",
       "      <td>-0.025558</td>\n",
       "      <td>0.101417</td>\n",
       "      <td>1</td>\n",
       "      <td>STANDING</td>\n",
       "    </tr>\n",
       "    <tr>\n",
       "      <th>2</th>\n",
       "      <td>-5.474988</td>\n",
       "      <td>0.287387</td>\n",
       "      <td>-2.144642</td>\n",
       "      <td>0.531806</td>\n",
       "      <td>0.207824</td>\n",
       "      <td>-0.037772</td>\n",
       "      <td>0.057628</td>\n",
       "      <td>0.093917</td>\n",
       "      <td>-0.063147</td>\n",
       "      <td>-0.216898</td>\n",
       "      <td>...</td>\n",
       "      <td>-0.233799</td>\n",
       "      <td>-0.045530</td>\n",
       "      <td>-0.141799</td>\n",
       "      <td>-0.028223</td>\n",
       "      <td>-0.138023</td>\n",
       "      <td>-0.064376</td>\n",
       "      <td>0.011841</td>\n",
       "      <td>0.096926</td>\n",
       "      <td>1</td>\n",
       "      <td>STANDING</td>\n",
       "    </tr>\n",
       "    <tr>\n",
       "      <th>3</th>\n",
       "      <td>-5.677232</td>\n",
       "      <td>0.897031</td>\n",
       "      <td>-2.018220</td>\n",
       "      <td>0.157125</td>\n",
       "      <td>0.759085</td>\n",
       "      <td>1.079547</td>\n",
       "      <td>-0.267805</td>\n",
       "      <td>-0.731391</td>\n",
       "      <td>0.281296</td>\n",
       "      <td>0.466269</td>\n",
       "      <td>...</td>\n",
       "      <td>-0.050974</td>\n",
       "      <td>-0.565510</td>\n",
       "      <td>0.979846</td>\n",
       "      <td>-0.099169</td>\n",
       "      <td>0.453160</td>\n",
       "      <td>-0.246305</td>\n",
       "      <td>0.429810</td>\n",
       "      <td>0.064388</td>\n",
       "      <td>1</td>\n",
       "      <td>STANDING</td>\n",
       "    </tr>\n",
       "    <tr>\n",
       "      <th>4</th>\n",
       "      <td>-5.748749</td>\n",
       "      <td>1.162952</td>\n",
       "      <td>-2.139533</td>\n",
       "      <td>0.207823</td>\n",
       "      <td>0.473090</td>\n",
       "      <td>0.463035</td>\n",
       "      <td>-0.152227</td>\n",
       "      <td>-0.107509</td>\n",
       "      <td>0.289819</td>\n",
       "      <td>0.539206</td>\n",
       "      <td>...</td>\n",
       "      <td>-0.109515</td>\n",
       "      <td>0.054680</td>\n",
       "      <td>-0.117067</td>\n",
       "      <td>-0.142639</td>\n",
       "      <td>-0.096306</td>\n",
       "      <td>0.024943</td>\n",
       "      <td>0.157876</td>\n",
       "      <td>0.091292</td>\n",
       "      <td>1</td>\n",
       "      <td>STANDING</td>\n",
       "    </tr>\n",
       "  </tbody>\n",
       "</table>\n",
       "<p>5 rows × 102 columns</p>\n",
       "</div>"
      ],
      "text/plain": [
       "          0         1         2         3         4         5         6  \\\n",
       "0 -5.520280 -0.290278 -1.529929  1.333242  1.425089 -0.194708  0.577454   \n",
       "1 -5.535350 -0.082530 -1.924804  0.671273  0.671260  0.735144 -0.616908   \n",
       "2 -5.474988  0.287387 -2.144642  0.531806  0.207824 -0.037772  0.057628   \n",
       "3 -5.677232  0.897031 -2.018220  0.157125  0.759085  1.079547 -0.267805   \n",
       "4 -5.748749  1.162952 -2.139533  0.207823  0.473090  0.463035 -0.152227   \n",
       "\n",
       "          7         8         9  ...        92        93        94        95  \\\n",
       "0  0.691490 -1.222865 -0.363414  ... -0.332386  0.026547 -0.174725  0.179773   \n",
       "1 -0.771714 -0.615496 -0.895525  ... -0.044549 -0.053192 -0.164765  0.137700   \n",
       "2  0.093917 -0.063147 -0.216898  ... -0.233799 -0.045530 -0.141799 -0.028223   \n",
       "3 -0.731391  0.281296  0.466269  ... -0.050974 -0.565510  0.979846 -0.099169   \n",
       "4 -0.107509  0.289819  0.539206  ... -0.109515  0.054680 -0.117067 -0.142639   \n",
       "\n",
       "         96        97        98        99  Subject  Activity  \n",
       "0  0.153462  0.040106  0.056116  0.004034        1  STANDING  \n",
       "1 -0.022226 -0.027823 -0.025558  0.101417        1  STANDING  \n",
       "2 -0.138023 -0.064376  0.011841  0.096926        1  STANDING  \n",
       "3  0.453160 -0.246305  0.429810  0.064388        1  STANDING  \n",
       "4 -0.096306  0.024943  0.157876  0.091292        1  STANDING  \n",
       "\n",
       "[5 rows x 102 columns]"
      ]
     },
     "execution_count": 9,
     "metadata": {},
     "output_type": "execute_result"
    }
   ],
   "source": [
    "df_train_red.head()"
   ]
  },
  {
   "cell_type": "markdown",
   "metadata": {},
   "source": [
    "# Count the number of datapoints for each posture"
   ]
  },
  {
   "cell_type": "code",
   "execution_count": 10,
   "metadata": {
    "colab": {},
    "colab_type": "code",
    "id": "veEvuviiGQtF"
   },
   "outputs": [
    {
     "name": "stdout",
     "output_type": "stream",
     "text": [
      "(1374, 102)\n",
      "(1286, 102)\n",
      "(1407, 102)\n",
      "(1226, 102)\n",
      "(986, 102)\n",
      "(1073, 102)\n"
     ]
    }
   ],
   "source": [
    "df_train_red_STAND=df_train_red[df_train_red['Activity']=='STANDING']\n",
    "df_train_red_SIT=df_train_red[df_train_red['Activity']=='SITTING']\n",
    "df_train_red_LAY=df_train_red[df_train_red['Activity']=='LAYING']\n",
    "df_train_red_WALK=df_train_red[df_train_red['Activity']=='WALKING']\n",
    "df_train_red_WALK_d=df_train_red[df_train_red['Activity']=='WALKING_DOWNSTAIRS']\n",
    "df_train_red_WALK_u=df_train_red[df_train_red['Activity']=='WALKING_UPSTAIRS']\n",
    "\n",
    "print(df_train_red_STAND.shape)\n",
    "print(df_train_red_SIT.shape)\n",
    "print(df_train_red_LAY.shape)\n",
    "print(df_train_red_WALK.shape)\n",
    "print(df_train_red_WALK_d.shape)\n",
    "print(df_train_red_WALK_u.shape)"
   ]
  },
  {
   "cell_type": "markdown",
   "metadata": {
    "colab_type": "text",
    "id": "gr7nPUNX-9LI"
   },
   "source": [
    "# Transform test data"
   ]
  },
  {
   "cell_type": "code",
   "execution_count": 11,
   "metadata": {
    "colab": {},
    "colab_type": "code",
    "id": "AdHaFIv2H7nO"
   },
   "outputs": [],
   "source": [
    "df_test.dropna(inplace=True)"
   ]
  },
  {
   "cell_type": "code",
   "execution_count": 12,
   "metadata": {
    "colab": {},
    "colab_type": "code",
    "id": "KuB7cIt0NLIX"
   },
   "outputs": [],
   "source": [
    "data_test_red=cov_pca.transform(df_test.iloc[:,0:561].values)\n",
    "df_test_red=pd.DataFrame(data_test_red)"
   ]
  },
  {
   "cell_type": "code",
   "execution_count": 13,
   "metadata": {
    "colab": {},
    "colab_type": "code",
    "id": "PAUWcN1wNgKm"
   },
   "outputs": [
    {
     "data": {
      "text/html": [
       "<div>\n",
       "<style scoped>\n",
       "    .dataframe tbody tr th:only-of-type {\n",
       "        vertical-align: middle;\n",
       "    }\n",
       "\n",
       "    .dataframe tbody tr th {\n",
       "        vertical-align: top;\n",
       "    }\n",
       "\n",
       "    .dataframe thead th {\n",
       "        text-align: right;\n",
       "    }\n",
       "</style>\n",
       "<table border=\"1\" class=\"dataframe\">\n",
       "  <thead>\n",
       "    <tr style=\"text-align: right;\">\n",
       "      <th></th>\n",
       "      <th>0</th>\n",
       "      <th>1</th>\n",
       "      <th>2</th>\n",
       "      <th>3</th>\n",
       "      <th>4</th>\n",
       "      <th>5</th>\n",
       "      <th>6</th>\n",
       "      <th>7</th>\n",
       "      <th>8</th>\n",
       "      <th>9</th>\n",
       "      <th>...</th>\n",
       "      <th>92</th>\n",
       "      <th>93</th>\n",
       "      <th>94</th>\n",
       "      <th>95</th>\n",
       "      <th>96</th>\n",
       "      <th>97</th>\n",
       "      <th>98</th>\n",
       "      <th>99</th>\n",
       "      <th>Subject</th>\n",
       "      <th>Activity</th>\n",
       "    </tr>\n",
       "  </thead>\n",
       "  <tbody>\n",
       "    <tr>\n",
       "      <th>0</th>\n",
       "      <td>-2.686743</td>\n",
       "      <td>-1.216821</td>\n",
       "      <td>-0.722075</td>\n",
       "      <td>-0.117270</td>\n",
       "      <td>-0.546360</td>\n",
       "      <td>0.442701</td>\n",
       "      <td>-0.387679</td>\n",
       "      <td>0.327529</td>\n",
       "      <td>0.117682</td>\n",
       "      <td>-1.593977</td>\n",
       "      <td>...</td>\n",
       "      <td>0.037297</td>\n",
       "      <td>0.245802</td>\n",
       "      <td>0.115687</td>\n",
       "      <td>0.028886</td>\n",
       "      <td>-0.175640</td>\n",
       "      <td>0.102827</td>\n",
       "      <td>-0.062964</td>\n",
       "      <td>-0.311790</td>\n",
       "      <td>2</td>\n",
       "      <td>STANDING</td>\n",
       "    </tr>\n",
       "    <tr>\n",
       "      <th>1</th>\n",
       "      <td>-4.331255</td>\n",
       "      <td>-0.766327</td>\n",
       "      <td>-1.128404</td>\n",
       "      <td>-0.152942</td>\n",
       "      <td>-0.505817</td>\n",
       "      <td>0.485306</td>\n",
       "      <td>-0.423214</td>\n",
       "      <td>0.805947</td>\n",
       "      <td>0.591644</td>\n",
       "      <td>-0.986363</td>\n",
       "      <td>...</td>\n",
       "      <td>-0.060741</td>\n",
       "      <td>0.070088</td>\n",
       "      <td>-0.072720</td>\n",
       "      <td>0.063252</td>\n",
       "      <td>0.026361</td>\n",
       "      <td>0.113842</td>\n",
       "      <td>-0.063458</td>\n",
       "      <td>-0.113086</td>\n",
       "      <td>2</td>\n",
       "      <td>STANDING</td>\n",
       "    </tr>\n",
       "    <tr>\n",
       "      <th>2</th>\n",
       "      <td>-4.985360</td>\n",
       "      <td>0.371301</td>\n",
       "      <td>-1.656858</td>\n",
       "      <td>-0.235971</td>\n",
       "      <td>-0.102938</td>\n",
       "      <td>-0.113283</td>\n",
       "      <td>-0.143993</td>\n",
       "      <td>0.279862</td>\n",
       "      <td>0.330125</td>\n",
       "      <td>-0.163722</td>\n",
       "      <td>...</td>\n",
       "      <td>0.017982</td>\n",
       "      <td>0.309695</td>\n",
       "      <td>-0.041810</td>\n",
       "      <td>0.082516</td>\n",
       "      <td>0.088427</td>\n",
       "      <td>0.114552</td>\n",
       "      <td>-0.095984</td>\n",
       "      <td>-0.021412</td>\n",
       "      <td>2</td>\n",
       "      <td>STANDING</td>\n",
       "    </tr>\n",
       "    <tr>\n",
       "      <th>3</th>\n",
       "      <td>-5.099876</td>\n",
       "      <td>0.243743</td>\n",
       "      <td>-1.802703</td>\n",
       "      <td>0.263715</td>\n",
       "      <td>-0.050454</td>\n",
       "      <td>-0.794957</td>\n",
       "      <td>0.083771</td>\n",
       "      <td>0.650500</td>\n",
       "      <td>0.270365</td>\n",
       "      <td>0.321617</td>\n",
       "      <td>...</td>\n",
       "      <td>0.146871</td>\n",
       "      <td>0.144039</td>\n",
       "      <td>-0.079952</td>\n",
       "      <td>0.038774</td>\n",
       "      <td>0.080363</td>\n",
       "      <td>0.120499</td>\n",
       "      <td>-0.113280</td>\n",
       "      <td>0.013229</td>\n",
       "      <td>2</td>\n",
       "      <td>STANDING</td>\n",
       "    </tr>\n",
       "    <tr>\n",
       "      <th>4</th>\n",
       "      <td>-5.023000</td>\n",
       "      <td>-0.518739</td>\n",
       "      <td>-1.871078</td>\n",
       "      <td>0.106466</td>\n",
       "      <td>0.153655</td>\n",
       "      <td>-0.947262</td>\n",
       "      <td>0.668394</td>\n",
       "      <td>0.792005</td>\n",
       "      <td>0.932680</td>\n",
       "      <td>0.593944</td>\n",
       "      <td>...</td>\n",
       "      <td>-0.086045</td>\n",
       "      <td>-0.024323</td>\n",
       "      <td>0.135935</td>\n",
       "      <td>-0.059567</td>\n",
       "      <td>0.009118</td>\n",
       "      <td>-0.034358</td>\n",
       "      <td>-0.002818</td>\n",
       "      <td>0.033185</td>\n",
       "      <td>2</td>\n",
       "      <td>STANDING</td>\n",
       "    </tr>\n",
       "  </tbody>\n",
       "</table>\n",
       "<p>5 rows × 102 columns</p>\n",
       "</div>"
      ],
      "text/plain": [
       "          0         1         2         3         4         5         6  \\\n",
       "0 -2.686743 -1.216821 -0.722075 -0.117270 -0.546360  0.442701 -0.387679   \n",
       "1 -4.331255 -0.766327 -1.128404 -0.152942 -0.505817  0.485306 -0.423214   \n",
       "2 -4.985360  0.371301 -1.656858 -0.235971 -0.102938 -0.113283 -0.143993   \n",
       "3 -5.099876  0.243743 -1.802703  0.263715 -0.050454 -0.794957  0.083771   \n",
       "4 -5.023000 -0.518739 -1.871078  0.106466  0.153655 -0.947262  0.668394   \n",
       "\n",
       "          7         8         9  ...        92        93        94        95  \\\n",
       "0  0.327529  0.117682 -1.593977  ...  0.037297  0.245802  0.115687  0.028886   \n",
       "1  0.805947  0.591644 -0.986363  ... -0.060741  0.070088 -0.072720  0.063252   \n",
       "2  0.279862  0.330125 -0.163722  ...  0.017982  0.309695 -0.041810  0.082516   \n",
       "3  0.650500  0.270365  0.321617  ...  0.146871  0.144039 -0.079952  0.038774   \n",
       "4  0.792005  0.932680  0.593944  ... -0.086045 -0.024323  0.135935 -0.059567   \n",
       "\n",
       "         96        97        98        99  Subject  Activity  \n",
       "0 -0.175640  0.102827 -0.062964 -0.311790        2  STANDING  \n",
       "1  0.026361  0.113842 -0.063458 -0.113086        2  STANDING  \n",
       "2  0.088427  0.114552 -0.095984 -0.021412        2  STANDING  \n",
       "3  0.080363  0.120499 -0.113280  0.013229        2  STANDING  \n",
       "4  0.009118 -0.034358 -0.002818  0.033185        2  STANDING  \n",
       "\n",
       "[5 rows x 102 columns]"
      ]
     },
     "execution_count": 13,
     "metadata": {},
     "output_type": "execute_result"
    }
   ],
   "source": [
    "df_test_red['Subject']=df_test['subject']\n",
    "df_test_red['Activity']=df_test['Activity']\n",
    "df_test_red.head()"
   ]
  },
  {
   "cell_type": "code",
   "execution_count": 14,
   "metadata": {
    "colab": {},
    "colab_type": "code",
    "id": "XYpIWgbHNxCe"
   },
   "outputs": [
    {
     "data": {
      "text/plain": [
       "(2947, 102)"
      ]
     },
     "execution_count": 14,
     "metadata": {},
     "output_type": "execute_result"
    }
   ],
   "source": [
    "df_test_red.shape"
   ]
  },
  {
   "cell_type": "code",
   "execution_count": 15,
   "metadata": {
    "colab": {
     "base_uri": "https://localhost:8080/",
     "height": 34
    },
    "colab_type": "code",
    "id": "sywDlttyOGnk",
    "outputId": "7f4b2a6f-826a-47eb-ce64-49c51da36d9b"
   },
   "outputs": [
    {
     "data": {
      "text/plain": [
       "(2947,)"
      ]
     },
     "execution_count": 15,
     "metadata": {},
     "output_type": "execute_result"
    }
   ],
   "source": [
    "#calculating true labels\n",
    "labels_true=[]\n",
    "for i in range(len(df_test_red)):\n",
    "    if (df_test_red['Activity'].iloc[i]=='STANDING'):\n",
    "        labels_true.append(0)\n",
    "    if (df_test_red['Activity'].iloc[i]=='SITTING'):\n",
    "        labels_true.append(1)\n",
    "    if (df_test_red['Activity'].iloc[i]=='LAYING'):\n",
    "        labels_true.append(2)   \n",
    "    if (df_test_red['Activity'].iloc[i]=='WALKING'):\n",
    "        labels_true.append(3) \n",
    "    if (df_test_red['Activity'].iloc[i]=='WALKING_UPSTAIRS'):\n",
    "        labels_true.append(4) \n",
    "    if (df_test_red['Activity'].iloc[i]=='WALKING_DOWNSTAIRS'):\n",
    "        labels_true.append(5) \n",
    "labels_true=np.array(labels_true)           \n",
    "labels_true.shape"
   ]
  },
  {
   "cell_type": "code",
   "execution_count": 23,
   "metadata": {
    "colab": {},
    "colab_type": "code",
    "id": "7TlZn9KvO-T_"
   },
   "outputs": [],
   "source": [
    "from hmmlearn import hmm"
   ]
  },
  {
   "cell_type": "code",
   "execution_count": 24,
   "metadata": {
    "colab": {},
    "colab_type": "code",
    "id": "A9n-9JysOUPx"
   },
   "outputs": [],
   "source": [
    "#implementing hmm\n",
    "#since there are 6 activity so fitting hmm for each activity\n",
    "def HMM_F1score(N,M,labels_true):\n",
    "    \n",
    "    hmm_stand=hmm.GMMHMM(n_components=N,n_mix=M,covariance_type='diag')\n",
    "    hmm_sit=hmm.GMMHMM(n_components=N,n_mix=M,covariance_type='diag')\n",
    "    hmm_lay=hmm.GMMHMM(n_components=N,n_mix=M,covariance_type='diag')\n",
    "    hmm_walk=hmm.GMMHMM(n_components=N,n_mix=M,covariance_type='diag')\n",
    "    hmm_walk_d=hmm.GMMHMM(n_components=N,n_mix=M,covariance_type='diag')\n",
    "    hmm_walk_u=hmm.GMMHMM(n_components=N,n_mix=M,covariance_type='diag')\n",
    "\n",
    "    hmm_stand.fit(df_train_red_STAND.iloc[:,0:100].values)\n",
    "    hmm_sit.fit(df_train_red_SIT.iloc[:,0:100].values)\n",
    "    hmm_lay.fit(df_train_red_LAY.iloc[:,0:100].values)\n",
    "    hmm_walk.fit(df_train_red_WALK.iloc[:,0:100].values)\n",
    "    hmm_walk_d.fit(df_train_red_WALK_d.iloc[:,0:100].values)\n",
    "    hmm_walk_u.fit(df_train_red_WALK_u.iloc[:,0:100].values)\n",
    "\n",
    "   #calculating F1 score\n",
    "    labels_predict = []\n",
    "    for i in range(len(df_test_red)):\n",
    "        log_likelihood_value = np.array([hmm_stand.score(df_test_red.iloc[i,0:100].values.reshape((1,100))),hmm_sit.score(df_test_red.iloc[i,0:100].values.reshape((1,100))),hmm_lay.score(df_test_red.iloc[i,0:100].values.reshape((1,100))),hmm_walk.score(df_test_red.iloc[i,0:100].values.reshape((1,100))),hmm_walk_d.score(df_test_red.iloc[i,0:100].values.reshape((1,100))),hmm_walk_u.score(df_test_red.iloc[i,0:100].values.reshape((1,100)))])\n",
    "        labels_predict.append(np.argmax(log_likelihood_value))    \n",
    "    labels_predict = np.array(labels_predict)  \n",
    "\n",
    "    F1 = f1_score(labels_true,labels_predict,average='micro')\n",
    "    acc = accuracy_score(labels_true,labels_predict)\n",
    "    return F1,acc"
   ]
  },
  {
   "cell_type": "code",
   "execution_count": 25,
   "metadata": {
    "colab": {
     "base_uri": "https://localhost:8080/",
     "height": 68
    },
    "colab_type": "code",
    "id": "cZmdh0TVSgvM",
    "outputId": "da12bbb0-67c5-4cfe-facf-40ca871a7fe2"
   },
   "outputs": [
    {
     "data": {
      "text/plain": [
       "array([ 1,  2,  3,  4,  5,  6,  7,  8,  9, 10, 11, 12, 13, 14, 15, 16, 17,\n",
       "       18, 19, 20, 21, 22, 23, 24, 25, 26, 27, 28, 29, 30, 31, 32, 33, 34,\n",
       "       35])"
      ]
     },
     "execution_count": 25,
     "metadata": {},
     "output_type": "execute_result"
    }
   ],
   "source": [
    "states=np.arange(1,36,1)\n",
    "states"
   ]
  },
  {
   "cell_type": "code",
   "execution_count": null,
   "metadata": {
    "colab": {},
    "colab_type": "code",
    "id": "uWP4c2RIS1IY"
   },
   "outputs": [
    {
     "name": "stdout",
     "output_type": "stream",
     "text": [
      "HMM has been trained for num_states= 1\n",
      "HMM has been trained for num_states= 2\n",
      "HMM has been trained for num_states= 3\n",
      "HMM has been trained for num_states= 4\n",
      "HMM has been trained for num_states= 5\n",
      "HMM has been trained for num_states= 6\n",
      "HMM has been trained for num_states= 7\n",
      "HMM has been trained for num_states= 8\n",
      "HMM has been trained for num_states= 9\n",
      "HMM has been trained for num_states= 10\n",
      "HMM has been trained for num_states= 11\n",
      "HMM has been trained for num_states= 12\n",
      "HMM has been trained for num_states= 13\n"
     ]
    }
   ],
   "source": [
    "F1_value_states = []\n",
    "acc_value_states = []\n",
    "for i in states:\n",
    "    print(\"HMM has been trained for num_states= {}\".format(i))\n",
    "    f1,acc = HMM_F1score(i,1,labels_true)\n",
    "    F1_value_states.append(f1)\n",
    "    acc_value_states.append(acc)\n",
    "fig,ax = plt.subplots(2,1)\n",
    "\n",
    "ax[0].plot(F1_value_states)\n",
    "ax[1].plot(acc_value_states)\n",
    "\n",
    "plt.show()"
   ]
  },
  {
   "cell_type": "code",
   "execution_count": null,
   "metadata": {
    "colab": {},
    "colab_type": "code",
    "id": "7F2ekksqbJLB"
   },
   "outputs": [],
   "source": [
    "f_test = []\n",
    "acc_test = []\n",
    "\n",
    "for i in range(1,6):\n",
    "    f1,acc1 = HMM_F1score(3,i,labels_true)\n",
    "    f_test.append(f1)\n",
    "    acc_test.append(acc1)\n",
    "    \n",
    "fig,ax = plt.subplots(2,1)\n",
    "\n",
    "ax[0].plot(f_test)\n",
    "ax[1].plot(acc_test)\n",
    "\n",
    "plt.show()"
   ]
  },
  {
   "cell_type": "code",
   "execution_count": null,
   "metadata": {
    "colab": {},
    "colab_type": "code",
    "id": "ZYMoXh9KcM8a"
   },
   "outputs": [],
   "source": [
    "f1_val,acc_val = HMM_F1score(3,8,labels_true)\n",
    "print(f1_val)\n",
    "print(acc_val)"
   ]
  }
 ],
 "metadata": {
  "colab": {
   "collapsed_sections": [],
   "name": "Untitled3.ipynb",
   "provenance": [],
   "toc_visible": true
  },
  "kernelspec": {
   "display_name": "Python 3",
   "language": "python",
   "name": "python3"
  },
  "language_info": {
   "codemirror_mode": {
    "name": "ipython",
    "version": 3
   },
   "file_extension": ".py",
   "mimetype": "text/x-python",
   "name": "python",
   "nbconvert_exporter": "python",
   "pygments_lexer": "ipython3",
   "version": "3.8.1"
  }
 },
 "nbformat": 4,
 "nbformat_minor": 1
}
